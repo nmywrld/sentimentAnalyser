{
 "cells": [
  {
   "cell_type": "code",
   "execution_count": 52,
   "metadata": {},
   "outputs": [],
   "source": [
    "# newsAPI     =    0b1ea46e336d40e1abc48f51e01c253a"
   ]
  },
  {
   "cell_type": "markdown",
   "metadata": {},
   "source": []
  },
  {
   "cell_type": "code",
   "execution_count": 15,
   "metadata": {},
   "outputs": [],
   "source": [
    "import pandas as pd\n",
    "import numpy as np\n",
    "from transformers import pipeline\n",
    "from tqdm import tqdm\n",
    "import matplotlib.pyplot as plt\n",
    "# from collections import defaultdict\n",
    "# from datetime import timedelta\n"
   ]
  },
  {
   "cell_type": "markdown",
   "metadata": {},
   "source": [
    "## load the data"
   ]
  },
  {
   "cell_type": "code",
   "execution_count": 3,
   "metadata": {},
   "outputs": [
    {
     "name": "stdout",
     "output_type": "stream",
     "text": [
      "publish_date             datetime64[ns, UTC]\n",
      "headline_text                         object\n",
      "description                           object\n",
      "headline_sentiment                     int64\n",
      "description_sentiment                  int64\n",
      "emotion                                int64\n",
      "dtype: object\n"
     ]
    }
   ],
   "source": [
    "df = pd.read_csv('testData.csv')\n",
    "\n",
    "# convert the publish_date column to datetime64\n",
    "df['publish_date'] = pd.to_datetime(df['publish_date'])\n",
    "\n",
    "# convert remaining cols to string\n",
    "df['headline_text'] = df['headline_text'].astype(str)\n",
    "df['description'] = df['description'].astype(str)\n",
    "\n",
    "\n",
    "headlines_df = df.copy()\n",
    "headlines_df['headline_sentiment'] = 0\n",
    "headlines_df['description_sentiment'] = 0\n",
    "headlines_df['emotion'] = 0\n",
    "# headlines_df['pos_sentiment'] = 0\n",
    "# headlines_df['neg_sentiment'] = 0\n",
    "\n",
    "print(headlines_df.dtypes)\n",
    "headlines_df.head()\n",
    "\n",
    "total_headlines = len(headlines_df)\n",
    "\n",
    "headlines = df['headline_text'].tolist()\n",
    "descriptions = df['description'].tolist()"
   ]
  },
  {
   "cell_type": "code",
   "execution_count": 25,
   "metadata": {},
   "outputs": [],
   "source": [
    "valid_emotions = ['joy', 'others', 'surprise',\n",
    "                  'sadness', 'fear', 'anger', 'disgust']\n",
    "\n",
    "\n",
    "emotions =  {\"joy\": 0, \"others\": 0, \"surprise\": 0, \n",
    "             \"sadness\": 0, \"fear\": 0, \"anger\": 0, \"disgust\": 0}\n",
    "\n",
    "\n",
    "keywords = {}\n",
    "\n",
    "# emotions = {}\n"
   ]
  },
  {
   "cell_type": "markdown",
   "metadata": {},
   "source": [
    "## load the models"
   ]
  },
  {
   "cell_type": "code",
   "execution_count": 5,
   "metadata": {},
   "outputs": [
    {
     "name": "stderr",
     "output_type": "stream",
     "text": [
      "/opt/anaconda3/lib/python3.9/site-packages/torch/_utils.py:831: UserWarning: TypedStorage is deprecated. It will be removed in the future and UntypedStorage will be the only storage class. This should only matter to you if you are using storages directly.  To access UntypedStorage directly, use tensor.untyped_storage() instead of tensor.storage()\n",
      "  return self.fget.__get__(instance, owner)()\n",
      "Some weights of the model checkpoint at cardiffnlp/twitter-roberta-base-sentiment-latest were not used when initializing RobertaForSequenceClassification: ['roberta.pooler.dense.bias', 'roberta.pooler.dense.weight']\n",
      "- This IS expected if you are initializing RobertaForSequenceClassification from the checkpoint of a model trained on another task or with another architecture (e.g. initializing a BertForSequenceClassification model from a BertForPreTraining model).\n",
      "- This IS NOT expected if you are initializing RobertaForSequenceClassification from the checkpoint of a model that you expect to be exactly identical (initializing a BertForSequenceClassification model from a BertForSequenceClassification model).\n"
     ]
    }
   ],
   "source": [
    "# sentiments = defaultdict(lambda: defaultdict(int))\n",
    "sentiment_model = pipeline(\n",
    "    model=\"siebert/sentiment-roberta-large-english\")  # Use device 0 for GPU\n",
    "\n",
    "emotion_model = pipeline(\n",
    "    model=\"finiteautomata/bertweet-base-emotion-analysis\")\n",
    "\n",
    "keyword_ext_model = pipeline(\n",
    "    model=\"yanekyuk/bert-keyword-extractor\")\n",
    "\n",
    "keyword_senti_model = pipeline(\n",
    "    model=\"cardiffnlp/twitter-roberta-base-sentiment-latest\")\n"
   ]
  },
  {
   "cell_type": "markdown",
   "metadata": {},
   "source": [
    "## helper methods"
   ]
  },
  {
   "cell_type": "code",
   "execution_count": 6,
   "metadata": {},
   "outputs": [],
   "source": [
    "def extract_keywords(batch_headlines):\n",
    "    batch_results = keyword_ext_model(batch_headlines)\n",
    "\n",
    "    # keywords = {}\n",
    "\n",
    "    # print(batch_results)\n",
    "\n",
    "    for result in batch_results:\n",
    "        # for keyword_info in result:\n",
    "        # print(result)\n",
    "        keyword = result['word']\n",
    "        # print(keyword)\n",
    "        # Filter words with less than 2 letters, exclude hashtags, and exclude \"chin\"\n",
    "        if keyword and len(keyword) >= 3 and not keyword.startswith('#') and keyword.lower() != 'chin':\n",
    "            if keyword in keywords.keys():\n",
    "                keywords[keyword] += 1\n",
    "            else:\n",
    "                keywords[keyword] = 1\n",
    "\n",
    "    return keywords"
   ]
  },
  {
   "cell_type": "code",
   "execution_count": 32,
   "metadata": {},
   "outputs": [
    {
     "name": "stderr",
     "output_type": "stream",
     "text": [
      "Analysing Sentiments: 100%|██████████| 5/5 [00:02<00:00,  1.72headline/s]\n"
     ]
    }
   ],
   "source": [
    "## analyse headlines ##\n",
    "with tqdm(total=total_headlines, desc=\"Analysing Sentiments\", unit=\"headline\", dynamic_ncols=True) as pbar:\n",
    "    for idx in range(total_headlines):\n",
    "        row = headlines_df.iloc[idx]\n",
    "        headline = row['headline_text']\n",
    "        description = row['description']\n",
    "\n",
    "\n",
    "        result = sentiment_model(headline)\n",
    "        label = result[0]['label']\n",
    "\n",
    "        if label == 'POSITIVE':\n",
    "            headlines_df.at[idx, 'headline_sentiment'] = 1\n",
    "        elif label == 'NEGATIVE':\n",
    "            headlines_df.at[idx, 'headline_sentiment'] = -1\n",
    "\n",
    "        ## analyse description ##               \n",
    "        result = sentiment_model(description)\n",
    "        label = result[0]['label']\n",
    "\n",
    "        if label == 'POSITIVE':\n",
    "            headlines_df.at[idx, 'description_sentiment'] = 1\n",
    "        elif label == 'NEGATIVE':\n",
    "            headlines_df.at[idx, 'description_sentiment'] = -1\n",
    "        \n",
    "\n",
    "        ## analyse emotions ##\n",
    "        results = emotion_model(headline)\n",
    "\n",
    "        for result in results:\n",
    "            label = result['label']\n",
    "            if label in valid_emotions:\n",
    "\n",
    "                if label not in emotions:\n",
    "                    emotions[label] = 0\n",
    "\n",
    "                emotions[label] += 1\n",
    "\n",
    "                headlines_df.at[idx, \"emotion\"] = label\n",
    "\n",
    "        ## analyse keywords ##\n",
    "        results = extract_keywords(headline)\n",
    "\n",
    "\n",
    "        pbar.update(1)"
   ]
  },
  {
   "cell_type": "code",
   "execution_count": 31,
   "metadata": {},
   "outputs": [
    {
     "name": "stdout",
     "output_type": "stream",
     "text": [
      "{'game': 2, 'show': 2, 'Donald': 2, 'Trump': 2, 'Joe': 2, 'administration': 2, 'tax': 2, 'electric': 2, 'vehicle': 2, 'McDonald': 2, 'Coca': 2, 'Cola': 2, 'trillion': 4, 'Bernard': 2, 'Jeff': 2, 'Larry': 2, 'Ellison': 2, 'Ware': 2}\n"
     ]
    }
   ],
   "source": [
    "batch_headlines = \" \".join(headlines) + \" \".join(descriptions)\n",
    "\n",
    "extract_keywords(batch_headlines)\n",
    "\n",
    "print(keywords)\n"
   ]
  },
  {
   "cell_type": "code",
   "execution_count": 33,
   "metadata": {},
   "outputs": [
    {
     "data": {
      "text/html": [
       "<div>\n",
       "<style scoped>\n",
       "    .dataframe tbody tr th:only-of-type {\n",
       "        vertical-align: middle;\n",
       "    }\n",
       "\n",
       "    .dataframe tbody tr th {\n",
       "        vertical-align: top;\n",
       "    }\n",
       "\n",
       "    .dataframe thead th {\n",
       "        text-align: right;\n",
       "    }\n",
       "</style>\n",
       "<table border=\"1\" class=\"dataframe\">\n",
       "  <thead>\n",
       "    <tr style=\"text-align: right;\">\n",
       "      <th></th>\n",
       "      <th>publish_date</th>\n",
       "      <th>headline_text</th>\n",
       "      <th>description</th>\n",
       "      <th>headline_sentiment</th>\n",
       "      <th>description_sentiment</th>\n",
       "      <th>emotion</th>\n",
       "    </tr>\n",
       "  </thead>\n",
       "  <tbody>\n",
       "    <tr>\n",
       "      <th>0</th>\n",
       "      <td>2024-01-28 04:50:27+00:00</td>\n",
       "      <td>Elon Musk joins Trump Republicans to slam rumo...</td>\n",
       "      <td>Elon Musk joined Donald Trump and Republican c...</td>\n",
       "      <td>-1</td>\n",
       "      <td>-1</td>\n",
       "      <td>others</td>\n",
       "    </tr>\n",
       "    <tr>\n",
       "      <th>1</th>\n",
       "      <td>2024-01-28 00:10:36+00:00</td>\n",
       "      <td>Tesla battery explodes in Cary home after bein...</td>\n",
       "      <td>Tesla battery explodes in Cary home after bein...</td>\n",
       "      <td>-1</td>\n",
       "      <td>-1</td>\n",
       "      <td>others</td>\n",
       "    </tr>\n",
       "    <tr>\n",
       "      <th>2</th>\n",
       "      <td>2024-01-27 21:01:05+00:00</td>\n",
       "      <td>Here's why Biden's multi-billion-dollar EV cha...</td>\n",
       "      <td>By Will Kessler Daily Caller News Foundation T...</td>\n",
       "      <td>-1</td>\n",
       "      <td>-1</td>\n",
       "      <td>others</td>\n",
       "    </tr>\n",
       "    <tr>\n",
       "      <th>3</th>\n",
       "      <td>2024-01-27 17:30:00+00:00</td>\n",
       "      <td>Who wants to be a trillionaire': The game show...</td>\n",
       "      <td>A trillion dollars can purchase shares of all...</td>\n",
       "      <td>1</td>\n",
       "      <td>1</td>\n",
       "      <td>others</td>\n",
       "    </tr>\n",
       "    <tr>\n",
       "      <th>4</th>\n",
       "      <td>2024-01-27 16:00:00+00:00</td>\n",
       "      <td>ARGHHH FUCK THIS</td>\n",
       "      <td>test</td>\n",
       "      <td>-1</td>\n",
       "      <td>1</td>\n",
       "      <td>anger</td>\n",
       "    </tr>\n",
       "  </tbody>\n",
       "</table>\n",
       "</div>"
      ],
      "text/plain": [
       "               publish_date  \\\n",
       "0 2024-01-28 04:50:27+00:00   \n",
       "1 2024-01-28 00:10:36+00:00   \n",
       "2 2024-01-27 21:01:05+00:00   \n",
       "3 2024-01-27 17:30:00+00:00   \n",
       "4 2024-01-27 16:00:00+00:00   \n",
       "\n",
       "                                       headline_text  \\\n",
       "0  Elon Musk joins Trump Republicans to slam rumo...   \n",
       "1  Tesla battery explodes in Cary home after bein...   \n",
       "2  Here's why Biden's multi-billion-dollar EV cha...   \n",
       "3  Who wants to be a trillionaire': The game show...   \n",
       "4                                   ARGHHH FUCK THIS   \n",
       "\n",
       "                                         description  headline_sentiment  \\\n",
       "0  Elon Musk joined Donald Trump and Republican c...                  -1   \n",
       "1  Tesla battery explodes in Cary home after bein...                  -1   \n",
       "2  By Will Kessler Daily Caller News Foundation T...                  -1   \n",
       "3   A trillion dollars can purchase shares of all...                   1   \n",
       "4                                               test                  -1   \n",
       "\n",
       "   description_sentiment emotion  \n",
       "0                     -1  others  \n",
       "1                     -1  others  \n",
       "2                     -1  others  \n",
       "3                      1  others  \n",
       "4                      1   anger  "
      ]
     },
     "execution_count": 33,
     "metadata": {},
     "output_type": "execute_result"
    }
   ],
   "source": [
    "headlines_df.head()\n",
    "\n",
    "# print(emotions)"
   ]
  },
  {
   "cell_type": "code",
   "execution_count": 34,
   "metadata": {},
   "outputs": [
    {
     "name": "stdout",
     "output_type": "stream",
     "text": [
      "{'joy': 0, 'others': 4, 'surprise': 0, 'sadness': 0, 'fear': 0, 'anger': 1, 'disgust': 0}\n"
     ]
    }
   ],
   "source": [
    "print(emotions)"
   ]
  },
  {
   "cell_type": "code",
   "execution_count": 14,
   "metadata": {},
   "outputs": [
    {
     "name": "stdout",
     "output_type": "stream",
     "text": [
      "[-1, -1, -1, 1, -1]\n",
      "-3\n",
      "========================\n",
      "[-1, -1, -1, 1, 1]\n",
      "-1\n"
     ]
    }
   ],
   "source": [
    "def normalise_sentiment(lst):\n",
    "    # sum of all values\n",
    "    total = sum(lst)\n",
    "\n",
    "    return total\n",
    "    \n",
    "\n",
    "senti1,senti2 = [headlines_df['headline_sentiment'].tolist(), headlines_df['description_sentiment'].tolist()]\n",
    "\n",
    "print(senti1)\n",
    "print(normalise_sentiment(senti1))\n",
    "\n",
    "print(\"========================\")\n",
    "\n",
    "print(senti2)\n",
    "print(normalise_sentiment(senti2))\n"
   ]
  },
  {
   "cell_type": "code",
   "execution_count": 44,
   "metadata": {},
   "outputs": [
    {
     "name": "stdout",
     "output_type": "stream",
     "text": [
      "['joy', 'others', 'surprise', 'sadness', 'fear', 'anger', 'disgust']\n",
      "[0, 4, 0, 0, 0, 1, 0]\n"
     ]
    },
    {
     "name": "stderr",
     "output_type": "stream",
     "text": [
      "/var/folders/3v/402dmsr14cl4bh_db40v144w0000gn/T/ipykernel_6652/3315558368.py:23: UserWarning: FixedFormatter should only be used together with FixedLocator\n",
      "  ax.set_xticklabels(['joy', 'neutral', 'surprise', 'sadness', 'fear', 'anger', 'disgust'])\n"
     ]
    },
    {
     "data": {
      "image/png": "[encoded data removed]",
      "text/plain": [
       "<Figure size 432x288 with 1 Axes>"
      ]
     },
     "metadata": {
      "needs_background": "light"
     },
     "output_type": "display_data"
    }
   ],
   "source": [
    "# some code to display emotions in a graph\n",
    "\n",
    "fig, ax = plt.subplots()\n",
    "\n",
    "# print(emotions.keys())\n",
    "\n",
    "emotionList = list(emotions.keys())\n",
    "valuesList = list(emotions.values())\n",
    "\n",
    "print(emotionList)\n",
    "print(valuesList)\n",
    "\n",
    "ax.bar(emotionList, valuesList)\n",
    "\n",
    "# show count of each emotion\n",
    "for i in range(len(emotionList)):\n",
    "    ax.text(i, valuesList[i], str(valuesList[i]), ha='center')\n",
    "\n",
    "# different colors for each bar\n",
    "ax.bar(emotionList, valuesList, color=['red', 'green', 'blue', 'purple', 'orange', 'black', 'pink'])\n",
    "\n",
    "# label \"others\" as \"neutral\"\n",
    "ax.set_xticklabels(['joy', 'neutral', 'surprise', 'sadness', 'fear', 'anger', 'disgust'])\n",
    "\n",
    "\n",
    "plt.show()\n"
   ]
  },
  {
   "cell_type": "code",
   "execution_count": null,
   "metadata": {},
   "outputs": [],
   "source": []
  }
 ],
 "metadata": {
  "kernelspec": {
   "display_name": "base",
   "language": "python",
   "name": "python3"
  },
  "language_info": {
   "codemirror_mode": {
    "name": "ipython",
    "version": 3
   },
   "file_extension": ".py",
   "mimetype": "text/x-python",
   "name": "python",
   "nbconvert_exporter": "python",
   "pygments_lexer": "ipython3",
   "version": "3.9.12"
  }
 },
 "nbformat": 4,
 "nbformat_minor": 2
}
