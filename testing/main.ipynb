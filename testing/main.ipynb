{
 "cells": [
  {
   "cell_type": "code",
   "execution_count": 52,
   "metadata": {},
   "outputs": [],
   "source": [
    "# newsAPI     =    0b1ea46e336d40e1abc48f51e01c253a"
   ]
  },
  {
   "cell_type": "markdown",
   "metadata": {},
   "source": []
  },
  {
   "cell_type": "code",
   "execution_count": 14,
   "metadata": {},
   "outputs": [],
   "source": [
    "import pandas as pd\n",
    "import numpy as np\n",
    "from transformers import pipeline\n",
    "from tqdm import tqdm\n",
    "import matplotlib.pyplot as plt\n",
    "\n",
    "from wordcloud import WordCloud\n",
    "from vaderSentiment.vaderSentiment import SentimentIntensityAnalyzer  # Import Vader\n",
    "# from collections import defaultdict\n",
    "# from datetime import timedelta\n"
   ]
  },
  {
   "cell_type": "markdown",
   "metadata": {},
   "source": [
    "## load the data"
   ]
  },
  {
   "cell_type": "code",
   "execution_count": 2,
   "metadata": {},
   "outputs": [
    {
     "name": "stdout",
     "output_type": "stream",
     "text": [
      "publish_date             datetime64[ns, UTC]\n",
      "headline_text                         object\n",
      "description                           object\n",
      "headline_sentiment                     int64\n",
      "description_sentiment                  int64\n",
      "emotion                                int64\n",
      "dtype: object\n"
     ]
    }
   ],
   "source": [
    "df = pd.read_csv('testData.csv')\n",
    "\n",
    "# convert the publish_date column to datetime64\n",
    "df['publish_date'] = pd.to_datetime(df['publish_date'])\n",
    "\n",
    "# convert remaining cols to string\n",
    "df['headline_text'] = df['headline_text'].astype(str)\n",
    "df['description'] = df['description'].astype(str)\n",
    "\n",
    "\n",
    "headlines_df = df.copy()\n",
    "headlines_df['headline_sentiment'] = 0\n",
    "headlines_df['description_sentiment'] = 0\n",
    "headlines_df['emotion'] = 0\n",
    "# headlines_df['pos_sentiment'] = 0\n",
    "# headlines_df['neg_sentiment'] = 0\n",
    "\n",
    "print(headlines_df.dtypes)\n",
    "headlines_df.head()\n",
    "\n",
    "total_headlines = len(headlines_df)\n",
    "\n",
    "headlines = df['headline_text'].tolist()\n",
    "descriptions = df['description'].tolist()"
   ]
  },
  {
   "cell_type": "code",
   "execution_count": 6,
   "metadata": {},
   "outputs": [],
   "source": [
    "valid_emotions = ['joy', 'others', 'surprise',\n",
    "                  'sadness', 'fear', 'anger', 'disgust']\n",
    "\n",
    "\n",
    "emotions =  {\"joy\": 0, \"others\": 0, \"surprise\": 0, \n",
    "             \"sadness\": 0, \"fear\": 0, \"anger\": 0, \"disgust\": 0}\n",
    "\n",
    "\n",
    "keywords = {}\n",
    "\n",
    "# emotions = {}\n"
   ]
  },
  {
   "cell_type": "markdown",
   "metadata": {},
   "source": [
    "## load the models"
   ]
  },
  {
   "cell_type": "code",
   "execution_count": 3,
   "metadata": {},
   "outputs": [
    {
     "name": "stderr",
     "output_type": "stream",
     "text": [
      "pytorch_model.bin: 100%|██████████| 1.42G/1.42G [01:06<00:00, 21.4MB/s]\n",
      "emoji is not installed, thus not converting emoticons or emojis into text. Install emoji: pip3 install emoji==0.6.0\n",
      "pytorch_model.bin: 100%|██████████| 431M/431M [00:22<00:00, 19.1MB/s] \n",
      "tokenizer_config.json: 100%|██████████| 320/320 [00:00<00:00, 145kB/s]\n",
      "vocab.txt: 100%|██████████| 213k/213k [00:00<00:00, 497kB/s]\n",
      "tokenizer.json: 100%|██████████| 669k/669k [00:00<00:00, 1.29MB/s]\n",
      "special_tokens_map.json: 100%|██████████| 112/112 [00:00<00:00, 279kB/s]\n",
      "config.json: 100%|██████████| 929/929 [00:00<00:00, 2.37MB/s]\n",
      "pytorch_model.bin:  77%|███████▋  | 388M/501M [00:18<00:05, 20.5MB/s] Error while downloading from https://cdn-lfs.huggingface.co/repos/1c/bc/1cbc44949d679770c89bc0ea73a06cbaa10d775cc6e8ef4f51045bfd8309c389/4d24a3e32a88ed1c4e5b789fc6644e2e767500554e954b27dccf52a8e762cbae?response-content-disposition=attachment%3B+filename*%3DUTF-8%27%27pytorch_model.bin%3B+filename%3D%22pytorch_model.bin%22%3B&response-content-type=application%2Foctet-stream&Expires=1707836300&Policy=eyJTdGF0ZW1lbnQiOlt7IkNvbmRpdGlvbiI6eyJEYXRlTGVzc1RoYW4iOnsiQVdTOkVwb2NoVGltZSI6MTcwNzgzNjMwMH19LCJSZXNvdXJjZSI6Imh0dHBzOi8vY2RuLWxmcy5odWdnaW5nZmFjZS5jby9yZXBvcy8xYy9iYy8xY2JjNDQ5NDlkNjc5NzcwYzg5YmMwZWE3M2EwNmNiYWExMGQ3NzVjYzZlOGVmNGY1MTA0NWJmZDgzMDljMzg5LzRkMjRhM2UzMmE4OGVkMWM0ZTViNzg5ZmM2NjQ0ZTJlNzY3NTAwNTU0ZTk1NGIyN2RjY2Y1MmE4ZTc2MmNiYWU%7EcmVzcG9uc2UtY29udGVudC1kaXNwb3NpdGlvbj0qJnJlc3BvbnNlLWNvbnRlbnQtdHlwZT0qIn1dfQ__&Signature=yVvR-VNoZqvuEXLQ99EGnIOU7wKeJjSB9y%7ESQnJZqc8uzSeFQ7bMUoVjDa8u%7EUIgox7uq5m-2x7NmSr7fwJssT-gXlAYBsWgthyXCyqk0K5dy9SHzdlsuVvLD5fG9-fIL1hZKPSx-7w8oWJ6eOZCw7KV6YhoZaDkKQjnsK4MXitPUZVnVQ6d91j5IXVXEXaVirBHU0lzEgpX968r1Xf4GQKZ6kPfcP1gpXgLEpaR9MYPY7Z8yBFW5cEFewE%7EJCx5Jq0FHjwlUQT9tPsS%7EAXih3c3eAT14k7ZdmjHzKWvXj-Qfmm6RzzWoIhAJRQOXok9ntQn8d982%7Erk0rjT-KIwmA__&Key-Pair-Id=KVTP0A1DKRTAX: HTTPSConnectionPool(host='cdn-lfs.huggingface.co', port=443): Read timed out.\n",
      "Trying to resume download...\n",
      "pytorch_model.bin: 100%|██████████| 501M/501M [00:05<00:00, 20.3MB/s]\n",
      "pytorch_model.bin:  77%|███████▋  | 388M/501M [00:35<00:10, 11.0MB/s]\n",
      "Some weights of the model checkpoint at cardiffnlp/twitter-roberta-base-sentiment-latest were not used when initializing RobertaForSequenceClassification: ['roberta.pooler.dense.bias', 'roberta.pooler.dense.weight']\n",
      "- This IS expected if you are initializing RobertaForSequenceClassification from the checkpoint of a model trained on another task or with another architecture (e.g. initializing a BertForSequenceClassification model from a BertForPreTraining model).\n",
      "- This IS NOT expected if you are initializing RobertaForSequenceClassification from the checkpoint of a model that you expect to be exactly identical (initializing a BertForSequenceClassification model from a BertForSequenceClassification model).\n",
      "vocab.json: 100%|██████████| 899k/899k [00:00<00:00, 966kB/s]\n",
      "merges.txt: 100%|██████████| 456k/456k [00:00<00:00, 600kB/s]\n",
      "special_tokens_map.json: 100%|██████████| 239/239 [00:00<00:00, 624kB/s]\n"
     ]
    }
   ],
   "source": [
    "# sentiments = defaultdict(lambda: defaultdict(int))\n",
    "sentiment_model = pipeline(\n",
    "    model=\"siebert/sentiment-roberta-large-english\")  # Use device 0 for GPU\n",
    "\n",
    "emotion_model = pipeline(\n",
    "    model=\"finiteautomata/bertweet-base-emotion-analysis\")\n",
    "\n",
    "keyword_ext_model = pipeline(\n",
    "    model=\"yanekyuk/bert-keyword-extractor\")\n",
    "\n",
    "keyword_senti_model = pipeline(\n",
    "    model=\"cardiffnlp/twitter-roberta-base-sentiment-latest\")\n"
   ]
  },
  {
   "cell_type": "markdown",
   "metadata": {},
   "source": [
    "## helper methods"
   ]
  },
  {
   "cell_type": "code",
   "execution_count": 7,
   "metadata": {},
   "outputs": [],
   "source": [
    "def extract_keywords(batch_headlines):\n",
    "    batch_results = keyword_ext_model(batch_headlines)\n",
    "\n",
    "    # keywords = {}\n",
    "\n",
    "    # print(batch_results)\n",
    "\n",
    "    for result in batch_results:\n",
    "        # for keyword_info in result:\n",
    "        # print(result)\n",
    "        keyword = result['word']\n",
    "        # print(keyword)\n",
    "        # Filter words with less than 2 letters, exclude hashtags, and exclude \"chin\"\n",
    "        if keyword and len(keyword) >= 3 and not keyword.startswith('#') and keyword.lower() != 'chin':\n",
    "            if keyword in keywords.keys():\n",
    "                keywords[keyword] += 1\n",
    "            else:\n",
    "                keywords[keyword] = 1\n",
    "\n",
    "    return keywords"
   ]
  },
  {
   "cell_type": "code",
   "execution_count": 8,
   "metadata": {},
   "outputs": [
    {
     "name": "stderr",
     "output_type": "stream",
     "text": [
      "Analysing Sentiments: 100%|██████████| 5/5 [00:01<00:00,  2.61headline/s]\n"
     ]
    }
   ],
   "source": [
    "## analyse headlines ##\n",
    "with tqdm(total=total_headlines, desc=\"Analysing Sentiments\", unit=\"headline\", dynamic_ncols=True) as pbar:\n",
    "    for idx in range(total_headlines):\n",
    "        row = headlines_df.iloc[idx]\n",
    "        headline = row['headline_text']\n",
    "        description = row['description']\n",
    "\n",
    "\n",
    "        result = sentiment_model(headline)\n",
    "        label = result[0]['label']\n",
    "\n",
    "        if label == 'POSITIVE':\n",
    "            headlines_df.at[idx, 'headline_sentiment'] = 1\n",
    "        elif label == 'NEGATIVE':\n",
    "            headlines_df.at[idx, 'headline_sentiment'] = -1\n",
    "\n",
    "        ## analyse description ##               \n",
    "        result = sentiment_model(description)\n",
    "        label = result[0]['label']\n",
    "\n",
    "        if label == 'POSITIVE':\n",
    "            headlines_df.at[idx, 'description_sentiment'] = 1\n",
    "        elif label == 'NEGATIVE':\n",
    "            headlines_df.at[idx, 'description_sentiment'] = -1\n",
    "        \n",
    "\n",
    "        ## analyse emotions ##\n",
    "        results = emotion_model(headline)\n",
    "\n",
    "        for result in results:\n",
    "            label = result['label']\n",
    "            if label in valid_emotions:\n",
    "\n",
    "                if label not in emotions:\n",
    "                    emotions[label] = 0\n",
    "\n",
    "                emotions[label] += 1\n",
    "\n",
    "                headlines_df.at[idx, \"emotion\"] = label\n",
    "\n",
    "        ## analyse keywords ##\n",
    "        results = extract_keywords(headline)\n",
    "\n",
    "\n",
    "        pbar.update(1)"
   ]
  },
  {
   "cell_type": "code",
   "execution_count": 9,
   "metadata": {},
   "outputs": [
    {
     "name": "stdout",
     "output_type": "stream",
     "text": [
      "{'battery': 1, 'trillion': 3, 'game': 2, 'show': 2, 'Donald': 1, 'Trump': 1, 'Joe': 1, 'administration': 1, 'tax': 1, 'electric': 1, 'vehicle': 1, 'McDonald': 1, 'Coca': 1, 'Cola': 1, 'Bernard': 1, 'Jeff': 1, 'Larry': 1, 'Ellison': 1, 'Ware': 1}\n"
     ]
    }
   ],
   "source": [
    "batch_headlines = \" \".join(headlines) + \" \".join(descriptions)\n",
    "\n",
    "extract_keywords(batch_headlines)\n",
    "\n",
    "print(keywords)\n"
   ]
  },
  {
   "cell_type": "code",
   "execution_count": 10,
   "metadata": {},
   "outputs": [
    {
     "data": {
      "text/html": [
       "<div>\n",
       "<style scoped>\n",
       "    .dataframe tbody tr th:only-of-type {\n",
       "        vertical-align: middle;\n",
       "    }\n",
       "\n",
       "    .dataframe tbody tr th {\n",
       "        vertical-align: top;\n",
       "    }\n",
       "\n",
       "    .dataframe thead th {\n",
       "        text-align: right;\n",
       "    }\n",
       "</style>\n",
       "<table border=\"1\" class=\"dataframe\">\n",
       "  <thead>\n",
       "    <tr style=\"text-align: right;\">\n",
       "      <th></th>\n",
       "      <th>publish_date</th>\n",
       "      <th>headline_text</th>\n",
       "      <th>description</th>\n",
       "      <th>headline_sentiment</th>\n",
       "      <th>description_sentiment</th>\n",
       "      <th>emotion</th>\n",
       "    </tr>\n",
       "  </thead>\n",
       "  <tbody>\n",
       "    <tr>\n",
       "      <th>0</th>\n",
       "      <td>2024-01-28 04:50:27+00:00</td>\n",
       "      <td>Elon Musk joins Trump Republicans to slam rumo...</td>\n",
       "      <td>Elon Musk joined Donald Trump and Republican c...</td>\n",
       "      <td>-1</td>\n",
       "      <td>-1</td>\n",
       "      <td>others</td>\n",
       "    </tr>\n",
       "    <tr>\n",
       "      <th>1</th>\n",
       "      <td>2024-01-28 00:10:36+00:00</td>\n",
       "      <td>Tesla battery explodes in Cary home after bein...</td>\n",
       "      <td>Tesla battery explodes in Cary home after bein...</td>\n",
       "      <td>-1</td>\n",
       "      <td>-1</td>\n",
       "      <td>others</td>\n",
       "    </tr>\n",
       "    <tr>\n",
       "      <th>2</th>\n",
       "      <td>2024-01-27 21:01:05+00:00</td>\n",
       "      <td>Here's why Biden's multi-billion-dollar EV cha...</td>\n",
       "      <td>By Will Kessler Daily Caller News Foundation T...</td>\n",
       "      <td>-1</td>\n",
       "      <td>-1</td>\n",
       "      <td>others</td>\n",
       "    </tr>\n",
       "    <tr>\n",
       "      <th>3</th>\n",
       "      <td>2024-01-27 17:30:00+00:00</td>\n",
       "      <td>Who wants to be a trillionaire': The game show...</td>\n",
       "      <td>A trillion dollars can purchase shares of all...</td>\n",
       "      <td>1</td>\n",
       "      <td>1</td>\n",
       "      <td>others</td>\n",
       "    </tr>\n",
       "    <tr>\n",
       "      <th>4</th>\n",
       "      <td>2024-01-27 16:00:00+00:00</td>\n",
       "      <td>ARGHHH FUCK THIS</td>\n",
       "      <td>test</td>\n",
       "      <td>-1</td>\n",
       "      <td>1</td>\n",
       "      <td>anger</td>\n",
       "    </tr>\n",
       "  </tbody>\n",
       "</table>\n",
       "</div>"
      ],
      "text/plain": [
       "               publish_date  \\\n",
       "0 2024-01-28 04:50:27+00:00   \n",
       "1 2024-01-28 00:10:36+00:00   \n",
       "2 2024-01-27 21:01:05+00:00   \n",
       "3 2024-01-27 17:30:00+00:00   \n",
       "4 2024-01-27 16:00:00+00:00   \n",
       "\n",
       "                                       headline_text  \\\n",
       "0  Elon Musk joins Trump Republicans to slam rumo...   \n",
       "1  Tesla battery explodes in Cary home after bein...   \n",
       "2  Here's why Biden's multi-billion-dollar EV cha...   \n",
       "3  Who wants to be a trillionaire': The game show...   \n",
       "4                                   ARGHHH FUCK THIS   \n",
       "\n",
       "                                         description  headline_sentiment  \\\n",
       "0  Elon Musk joined Donald Trump and Republican c...                  -1   \n",
       "1  Tesla battery explodes in Cary home after bein...                  -1   \n",
       "2  By Will Kessler Daily Caller News Foundation T...                  -1   \n",
       "3   A trillion dollars can purchase shares of all...                   1   \n",
       "4                                               test                  -1   \n",
       "\n",
       "   description_sentiment emotion  \n",
       "0                     -1  others  \n",
       "1                     -1  others  \n",
       "2                     -1  others  \n",
       "3                      1  others  \n",
       "4                      1   anger  "
      ]
     },
     "execution_count": 10,
     "metadata": {},
     "output_type": "execute_result"
    }
   ],
   "source": [
    "headlines_df.head()\n",
    "\n",
    "# print(emotions)"
   ]
  },
  {
   "cell_type": "code",
   "execution_count": 11,
   "metadata": {},
   "outputs": [
    {
     "name": "stdout",
     "output_type": "stream",
     "text": [
      "{'joy': 0, 'others': 4, 'surprise': 0, 'sadness': 0, 'fear': 0, 'anger': 1, 'disgust': 0}\n"
     ]
    }
   ],
   "source": [
    "print(emotions)"
   ]
  },
  {
   "cell_type": "code",
   "execution_count": 12,
   "metadata": {},
   "outputs": [
    {
     "name": "stdout",
     "output_type": "stream",
     "text": [
      "[-1, -1, -1, 1, -1]\n",
      "-3\n",
      "========================\n",
      "[-1, -1, -1, 1, 1]\n",
      "-1\n"
     ]
    }
   ],
   "source": [
    "def normalise_sentiment(lst):\n",
    "    # sum of all values\n",
    "    total = sum(lst)\n",
    "\n",
    "    return total\n",
    "    \n",
    "\n",
    "senti1,senti2 = [headlines_df['headline_sentiment'].tolist(), headlines_df['description_sentiment'].tolist()]\n",
    "\n",
    "print(senti1)\n",
    "print(normalise_sentiment(senti1))\n",
    "\n",
    "print(\"========================\")\n",
    "\n",
    "print(senti2)\n",
    "print(normalise_sentiment(senti2))\n"
   ]
  },
  {
   "cell_type": "code",
   "execution_count": 13,
   "metadata": {},
   "outputs": [
    {
     "name": "stdout",
     "output_type": "stream",
     "text": [
      "['joy', 'others', 'surprise', 'sadness', 'fear', 'anger', 'disgust']\n",
      "[0, 4, 0, 0, 0, 1, 0]\n"
     ]
    },
    {
     "name": "stderr",
     "output_type": "stream",
     "text": [
      "/var/folders/df/wq0_v7hn53n0z84b691yjxcc0000gn/T/ipykernel_13861/3315558368.py:23: UserWarning: FixedFormatter should only be used together with FixedLocator\n",
      "  ax.set_xticklabels(['joy', 'neutral', 'surprise', 'sadness', 'fear', 'anger', 'disgust'])\n"
     ]
    },
    {
     "data": {
      "image/png": "[encoded data removed]",
      "text/plain": [
       "<Figure size 640x480 with 1 Axes>"
      ]
     },
     "metadata": {},
     "output_type": "display_data"
    }
   ],
   "source": [
    "# some code to display emotions in a graph\n",
    "\n",
    "fig, ax = plt.subplots()\n",
    "\n",
    "# print(emotions.keys())\n",
    "\n",
    "emotionList = list(emotions.keys())\n",
    "valuesList = list(emotions.values())\n",
    "\n",
    "print(emotionList)\n",
    "print(valuesList)\n",
    "\n",
    "ax.bar(emotionList, valuesList)\n",
    "\n",
    "# show count of each emotion\n",
    "for i in range(len(emotionList)):\n",
    "    ax.text(i, valuesList[i], str(valuesList[i]), ha='center')\n",
    "\n",
    "# different colors for each bar\n",
    "ax.bar(emotionList, valuesList, color=['red', 'green', 'blue', 'purple', 'orange', 'black', 'pink'])\n",
    "\n",
    "# label \"others\" as \"neutral\"\n",
    "ax.set_xticklabels(['joy', 'neutral', 'surprise', 'sadness', 'fear', 'anger', 'disgust'])\n",
    "\n",
    "\n",
    "plt.show()\n"
   ]
  },
  {
   "cell_type": "code",
   "execution_count": 25,
   "metadata": {},
   "outputs": [
    {
     "ename": "ValueError",
     "evalue": "Only supported for TrueType fonts",
     "output_type": "error",
     "traceback": [
      "\u001b[0;31m---------------------------------------------------------------------------\u001b[0m",
      "\u001b[0;31mValueError\u001b[0m                                Traceback (most recent call last)",
      "Cell \u001b[0;32mIn[25], line 57\u001b[0m\n\u001b[1;32m     54\u001b[0m     fig\u001b[38;5;241m.\u001b[39mcanvas\u001b[38;5;241m.\u001b[39mdraw_idle()\n\u001b[1;32m     56\u001b[0m \u001b[38;5;66;03m# Initialise the word cloud\u001b[39;00m\n\u001b[0;32m---> 57\u001b[0m \u001b[43mupdate\u001b[49m\u001b[43m(\u001b[49m\u001b[43m)\u001b[49m\n\u001b[1;32m     59\u001b[0m \u001b[38;5;66;03m# Display the plot\u001b[39;00m\n\u001b[1;32m     60\u001b[0m plt\u001b[38;5;241m.\u001b[39mtight_layout()\n",
      "Cell \u001b[0;32mIn[25], line 42\u001b[0m, in \u001b[0;36mupdate\u001b[0;34m()\u001b[0m\n\u001b[1;32m     39\u001b[0m colors \u001b[38;5;241m=\u001b[39m {word: analyze_sentiment_and_color(word) \u001b[38;5;28;01mfor\u001b[39;00m word \u001b[38;5;129;01min\u001b[39;00m keywords\u001b[38;5;241m.\u001b[39mkeys()}\n\u001b[1;32m     41\u001b[0m \u001b[38;5;66;03m# Create a word cloud with colored words\u001b[39;00m\n\u001b[0;32m---> 42\u001b[0m wordcloud \u001b[38;5;241m=\u001b[39m \u001b[43mWordCloud\u001b[49m\u001b[43m(\u001b[49m\n\u001b[1;32m     43\u001b[0m \u001b[43m    \u001b[49m\u001b[43mwidth\u001b[49m\u001b[38;5;241;43m=\u001b[39;49m\u001b[38;5;241;43m400\u001b[39;49m\u001b[43m,\u001b[49m\u001b[43m \u001b[49m\u001b[43mheight\u001b[49m\u001b[38;5;241;43m=\u001b[39;49m\u001b[38;5;241;43m200\u001b[39;49m\u001b[43m,\u001b[49m\u001b[43m \u001b[49m\u001b[43mmax_words\u001b[49m\u001b[38;5;241;43m=\u001b[39;49m\u001b[38;5;241;43m50\u001b[39;49m\u001b[43m,\u001b[49m\u001b[43m \u001b[49m\u001b[43mbackground_color\u001b[49m\u001b[38;5;241;43m=\u001b[39;49m\u001b[38;5;124;43m'\u001b[39;49m\u001b[38;5;124;43mwhite\u001b[39;49m\u001b[38;5;124;43m'\u001b[39;49m\u001b[43m,\u001b[49m\n\u001b[1;32m     44\u001b[0m \u001b[43m    \u001b[49m\u001b[43mcolor_func\u001b[49m\u001b[38;5;241;43m=\u001b[39;49m\u001b[38;5;28;43;01mlambda\u001b[39;49;00m\u001b[43m \u001b[49m\u001b[43mword\u001b[49m\u001b[43m,\u001b[49m\u001b[43m \u001b[49m\u001b[43mfont_size\u001b[49m\u001b[43m,\u001b[49m\u001b[43m \u001b[49m\u001b[43mposition\u001b[49m\u001b[43m,\u001b[49m\u001b[43m \u001b[49m\u001b[43morientation\u001b[49m\u001b[43m,\u001b[49m\u001b[43m \u001b[49m\u001b[43mrandom_state\u001b[49m\u001b[38;5;241;43m=\u001b[39;49m\u001b[38;5;28;43;01mNone\u001b[39;49;00m\u001b[43m,\u001b[49m\u001b[43m \u001b[49m\u001b[38;5;241;43m*\u001b[39;49m\u001b[38;5;241;43m*\u001b[39;49m\u001b[43mkwargs\u001b[49m\u001b[43m:\u001b[49m\u001b[43m \u001b[49m\u001b[43mcolors\u001b[49m\u001b[38;5;241;43m.\u001b[39;49m\u001b[43mget\u001b[49m\u001b[43m(\u001b[49m\u001b[43mword\u001b[49m\u001b[43m,\u001b[49m\u001b[43m \u001b[49m\u001b[38;5;124;43m'\u001b[39;49m\u001b[38;5;124;43mblack\u001b[39;49m\u001b[38;5;124;43m'\u001b[39;49m\u001b[43m)\u001b[49m\u001b[43m,\u001b[49m\n\u001b[1;32m     45\u001b[0m \u001b[43m    \u001b[49m\u001b[43mfont_path\u001b[49m\u001b[38;5;241;43m=\u001b[39;49m\u001b[38;5;28;43;01mNone\u001b[39;49;00m\n\u001b[1;32m     46\u001b[0m \u001b[43m    \u001b[49m\u001b[38;5;66;43;03m# font_name=\"Arial\" \u001b[39;49;00m\n\u001b[1;32m     47\u001b[0m \u001b[43m\u001b[49m\u001b[43m)\u001b[49m\u001b[38;5;241;43m.\u001b[39;49m\u001b[43mgenerate_from_frequencies\u001b[49m\u001b[43m(\u001b[49m\u001b[43mkeywords\u001b[49m\u001b[43m)\u001b[49m\n\u001b[1;32m     49\u001b[0m \u001b[38;5;66;03m# Update the word cloud on the subplot\u001b[39;00m\n\u001b[1;32m     50\u001b[0m ax\u001b[38;5;241m.\u001b[39mclear()\n",
      "File \u001b[0;32m~/miniforge3/lib/python3.9/site-packages/wordcloud/wordcloud.py:453\u001b[0m, in \u001b[0;36mWordCloud.generate_from_frequencies\u001b[0;34m(self, frequencies, max_font_size)\u001b[0m\n\u001b[1;32m    451\u001b[0m     font_size \u001b[38;5;241m=\u001b[39m \u001b[38;5;28mself\u001b[39m\u001b[38;5;241m.\u001b[39mheight\n\u001b[1;32m    452\u001b[0m \u001b[38;5;28;01melse\u001b[39;00m:\n\u001b[0;32m--> 453\u001b[0m     \u001b[38;5;28;43mself\u001b[39;49m\u001b[38;5;241;43m.\u001b[39;49m\u001b[43mgenerate_from_frequencies\u001b[49m\u001b[43m(\u001b[49m\u001b[38;5;28;43mdict\u001b[39;49m\u001b[43m(\u001b[49m\u001b[43mfrequencies\u001b[49m\u001b[43m[\u001b[49m\u001b[43m:\u001b[49m\u001b[38;5;241;43m2\u001b[39;49m\u001b[43m]\u001b[49m\u001b[43m)\u001b[49m\u001b[43m,\u001b[49m\n\u001b[1;32m    454\u001b[0m \u001b[43m                                   \u001b[49m\u001b[43mmax_font_size\u001b[49m\u001b[38;5;241;43m=\u001b[39;49m\u001b[38;5;28;43mself\u001b[39;49m\u001b[38;5;241;43m.\u001b[39;49m\u001b[43mheight\u001b[49m\u001b[43m)\u001b[49m\n\u001b[1;32m    455\u001b[0m     \u001b[38;5;66;03m# find font sizes\u001b[39;00m\n\u001b[1;32m    456\u001b[0m     sizes \u001b[38;5;241m=\u001b[39m [x[\u001b[38;5;241m1\u001b[39m] \u001b[38;5;28;01mfor\u001b[39;00m x \u001b[38;5;129;01min\u001b[39;00m \u001b[38;5;28mself\u001b[39m\u001b[38;5;241m.\u001b[39mlayout_]\n",
      "File \u001b[0;32m~/miniforge3/lib/python3.9/site-packages/wordcloud/wordcloud.py:511\u001b[0m, in \u001b[0;36mWordCloud.generate_from_frequencies\u001b[0;34m(self, frequencies, max_font_size)\u001b[0m\n\u001b[1;32m    508\u001b[0m transposed_font \u001b[38;5;241m=\u001b[39m ImageFont\u001b[38;5;241m.\u001b[39mTransposedFont(\n\u001b[1;32m    509\u001b[0m     font, orientation\u001b[38;5;241m=\u001b[39morientation)\n\u001b[1;32m    510\u001b[0m \u001b[38;5;66;03m# get size of resulting text\u001b[39;00m\n\u001b[0;32m--> 511\u001b[0m box_size \u001b[38;5;241m=\u001b[39m \u001b[43mdraw\u001b[49m\u001b[38;5;241;43m.\u001b[39;49m\u001b[43mtextbbox\u001b[49m\u001b[43m(\u001b[49m\u001b[43m(\u001b[49m\u001b[38;5;241;43m0\u001b[39;49m\u001b[43m,\u001b[49m\u001b[43m \u001b[49m\u001b[38;5;241;43m0\u001b[39;49m\u001b[43m)\u001b[49m\u001b[43m,\u001b[49m\u001b[43m \u001b[49m\u001b[43mword\u001b[49m\u001b[43m,\u001b[49m\u001b[43m \u001b[49m\u001b[43mfont\u001b[49m\u001b[38;5;241;43m=\u001b[39;49m\u001b[43mtransposed_font\u001b[49m\u001b[43m,\u001b[49m\u001b[43m \u001b[49m\u001b[43manchor\u001b[49m\u001b[38;5;241;43m=\u001b[39;49m\u001b[38;5;124;43m\"\u001b[39;49m\u001b[38;5;124;43mlt\u001b[39;49m\u001b[38;5;124;43m\"\u001b[39;49m\u001b[43m)\u001b[49m\n\u001b[1;32m    512\u001b[0m \u001b[38;5;66;03m# find possible places using integral image:\u001b[39;00m\n\u001b[1;32m    513\u001b[0m result \u001b[38;5;241m=\u001b[39m occupancy\u001b[38;5;241m.\u001b[39msample_position(box_size[\u001b[38;5;241m3\u001b[39m] \u001b[38;5;241m+\u001b[39m \u001b[38;5;28mself\u001b[39m\u001b[38;5;241m.\u001b[39mmargin,\n\u001b[1;32m    514\u001b[0m                                    box_size[\u001b[38;5;241m2\u001b[39m] \u001b[38;5;241m+\u001b[39m \u001b[38;5;28mself\u001b[39m\u001b[38;5;241m.\u001b[39mmargin,\n\u001b[1;32m    515\u001b[0m                                    random_state)\n",
      "File \u001b[0;32m~/miniforge3/lib/python3.9/site-packages/PIL/ImageDraw.py:671\u001b[0m, in \u001b[0;36mImageDraw.textbbox\u001b[0;34m(self, xy, text, font, anchor, spacing, align, direction, features, language, stroke_width, embedded_color)\u001b[0m\n\u001b[1;32m    669\u001b[0m     font \u001b[38;5;241m=\u001b[39m \u001b[38;5;28mself\u001b[39m\u001b[38;5;241m.\u001b[39mgetfont()\n\u001b[1;32m    670\u001b[0m \u001b[38;5;28;01mif\u001b[39;00m \u001b[38;5;129;01mnot\u001b[39;00m \u001b[38;5;28misinstance\u001b[39m(font, ImageFont\u001b[38;5;241m.\u001b[39mFreeTypeFont):\n\u001b[0;32m--> 671\u001b[0m     \u001b[38;5;28;01mraise\u001b[39;00m \u001b[38;5;167;01mValueError\u001b[39;00m(\u001b[38;5;124m\"\u001b[39m\u001b[38;5;124mOnly supported for TrueType fonts\u001b[39m\u001b[38;5;124m\"\u001b[39m)\n\u001b[1;32m    672\u001b[0m mode \u001b[38;5;241m=\u001b[39m \u001b[38;5;124m\"\u001b[39m\u001b[38;5;124mRGBA\u001b[39m\u001b[38;5;124m\"\u001b[39m \u001b[38;5;28;01mif\u001b[39;00m embedded_color \u001b[38;5;28;01melse\u001b[39;00m \u001b[38;5;28mself\u001b[39m\u001b[38;5;241m.\u001b[39mfontmode\n\u001b[1;32m    673\u001b[0m bbox \u001b[38;5;241m=\u001b[39m font\u001b[38;5;241m.\u001b[39mgetbbox(\n\u001b[1;32m    674\u001b[0m     text, mode, direction, features, language, stroke_width, anchor\n\u001b[1;32m    675\u001b[0m )\n",
      "\u001b[0;31mValueError\u001b[0m: Only supported for TrueType fonts"
     ]
    },
    {
     "data": {
      "image/png": "[encoded data removed]",
      "text/plain": [
       "<Figure size 1000x600 with 1 Axes>"
      ]
     },
     "metadata": {},
     "output_type": "display_data"
    }
   ],
   "source": [
    "import matplotlib.pyplot as plt\n",
    "from wordcloud import WordCloud\n",
    "from vaderSentiment.vaderSentiment import SentimentIntensityAnalyzer  # Import Vader\n",
    "\n",
    "# Define the keywords dictionary\n",
    "# keywords = {\"word1\": 10, \"word2\": 20, \"word3\": 15, \"word4\": 30}  # Replace with your actual data\n",
    "\n",
    "# Create a color mapping for sentiment (you can adjust these colors)\n",
    "sentiment_colors = {\n",
    "    'positive': 'green',\n",
    "    'neutral': 'gray',\n",
    "    'negative': 'red'\n",
    "}\n",
    "\n",
    "# Create a subplot for the word cloud\n",
    "fig, ax = plt.subplots(figsize=(10, 6))  # Adjust the figure size as needed\n",
    "\n",
    "# Create a title for the top keywords\n",
    "title = fig.suptitle(\"Top Keywords\", fontsize=16)\n",
    "\n",
    "# Initialise Vader sentiment analyser\n",
    "analyzer = SentimentIntensityAnalyzer()\n",
    "\n",
    "# Function to analyze sentiment and assign colors to words using Vader\n",
    "def analyze_sentiment_and_color(text):\n",
    "    sentiment = analyzer.polarity_scores(text)\n",
    "    compound_score = sentiment['compound']\n",
    "    \n",
    "    if compound_score > 0:\n",
    "        return sentiment_colors['positive']\n",
    "    elif compound_score < 0:\n",
    "        return sentiment_colors['negative']\n",
    "    else:\n",
    "        return sentiment_colors['neutral']\n",
    "\n",
    "# Function to update the word cloud\n",
    "def update():\n",
    "    # Analyse sentiment and assign colors to words\n",
    "    colors = {word: analyze_sentiment_and_color(word) for word in keywords.keys()}\n",
    "\n",
    "    # Create a word cloud with colored words\n",
    "    wordcloud = WordCloud(\n",
    "        width=400, height=200, max_words=50, background_color='white',\n",
    "        color_func=lambda word, font_size, position, orientation, random_state=None, **kwargs: colors.get(word, 'black'),\n",
    "        font_path=None\n",
    "        # font_name=\"Arial\" \n",
    "    ).generate_from_frequencies(keywords)\n",
    "\n",
    "    # Update the word cloud on the subplot\n",
    "    ax.clear()\n",
    "    ax.imshow(wordcloud, interpolation='bilinear')\n",
    "    ax.axis('off')\n",
    "\n",
    "    fig.canvas.draw_idle()\n",
    "\n",
    "# Initialise the word cloud\n",
    "update()\n",
    "\n",
    "# Display the plot\n",
    "plt.tight_layout()\n",
    "plt.show()"
   ]
  },
  {
   "cell_type": "code",
   "execution_count": null,
   "metadata": {},
   "outputs": [],
   "source": [
    "wordcloud = WordCloud(width=800, height=400)\n",
    "\n",
    "# Generate a word cloud from the word:count dictionary\n",
    "wordcloud.generate_from_frequencies(frequencies=keywords)\n",
    "\n",
    "# Display the generated image\n",
    "plt.figure(figsize=(10, 5))\n",
    "plt.imshow(wordcloud, interpolation=\"bilinear\")\n",
    "plt.axis(\"off\")\n",
    "plt.show()"
   ]
  }
 ],
 "metadata": {
  "kernelspec": {
   "display_name": "base",
   "language": "python",
   "name": "python3"
  },
  "language_info": {
   "codemirror_mode": {
    "name": "ipython",
    "version": 3
   },
   "file_extension": ".py",
   "mimetype": "text/x-python",
   "name": "python",
   "nbconvert_exporter": "python",
   "pygments_lexer": "ipython3",
   "version": "3.9.10"
  }
 },
 "nbformat": 4,
 "nbformat_minor": 2
}
